{
 "cells": [
  {
   "cell_type": "markdown",
   "metadata": {},
   "source": [
    "# Machine Learning from the VERY Beginning, A very good place to start.."
   ]
  },
  {
   "cell_type": "markdown",
   "metadata": {},
   "source": [
    "### This tutorial will take you through the simplest possible ML application ever.. "
   ]
  },
  {
   "cell_type": "markdown",
   "metadata": {},
   "source": [
    "Hi, if you don't know juuuuust the basics of python and Jupyter Notebooks then this will be at best intimidating.  "
   ]
  },
  {
   "cell_type": "code",
   "execution_count": null,
   "metadata": {},
   "outputs": [],
   "source": [
    "if you not know:\n",
    "    python_basics:\n",
    "        you should really get that checked out, come back here later.\n",
    "elif you not know:\n",
    "    pandas_basics:\n",
    "        check out my 'Pandas with JupyterLab Tutorial' on my GitHub"
   ]
  },
  {
   "cell_type": "markdown",
   "metadata": {},
   "source": [
    "You need to have clicked the green download 'code' button on GitHub and you need the csv file in the same folder as this notebook. "
   ]
  },
  {
   "cell_type": "markdown",
   "metadata": {},
   "source": [
    "First, we need to read in our csv file to the jupyter notebook so we import pandas which has a convenient read_csv() function. "
   ]
  },
  {
   "cell_type": "code",
   "execution_count": 19,
   "metadata": {},
   "outputs": [],
   "source": [
    "import pandas as pd "
   ]
  },
  {
   "cell_type": "code",
   "execution_count": 27,
   "metadata": {},
   "outputs": [
    {
     "data": {
      "text/html": [
       "<div>\n",
       "<style scoped>\n",
       "    .dataframe tbody tr th:only-of-type {\n",
       "        vertical-align: middle;\n",
       "    }\n",
       "\n",
       "    .dataframe tbody tr th {\n",
       "        vertical-align: top;\n",
       "    }\n",
       "\n",
       "    .dataframe thead th {\n",
       "        text-align: right;\n",
       "    }\n",
       "</style>\n",
       "<table border=\"1\" class=\"dataframe\">\n",
       "  <thead>\n",
       "    <tr style=\"text-align: right;\">\n",
       "      <th></th>\n",
       "      <th>age</th>\n",
       "      <th>gender</th>\n",
       "      <th>favorite_activity</th>\n",
       "    </tr>\n",
       "  </thead>\n",
       "  <tbody>\n",
       "    <tr>\n",
       "      <th>0</th>\n",
       "      <td>21</td>\n",
       "      <td>0</td>\n",
       "      <td>drinking</td>\n",
       "    </tr>\n",
       "    <tr>\n",
       "      <th>1</th>\n",
       "      <td>23</td>\n",
       "      <td>0</td>\n",
       "      <td>drinking</td>\n",
       "    </tr>\n",
       "    <tr>\n",
       "      <th>2</th>\n",
       "      <td>24</td>\n",
       "      <td>0</td>\n",
       "      <td>drinking</td>\n",
       "    </tr>\n",
       "    <tr>\n",
       "      <th>3</th>\n",
       "      <td>25</td>\n",
       "      <td>0</td>\n",
       "      <td>working</td>\n",
       "    </tr>\n",
       "    <tr>\n",
       "      <th>4</th>\n",
       "      <td>27</td>\n",
       "      <td>0</td>\n",
       "      <td>working</td>\n",
       "    </tr>\n",
       "    <tr>\n",
       "      <th>5</th>\n",
       "      <td>29</td>\n",
       "      <td>0</td>\n",
       "      <td>working</td>\n",
       "    </tr>\n",
       "    <tr>\n",
       "      <th>6</th>\n",
       "      <td>31</td>\n",
       "      <td>0</td>\n",
       "      <td>picnicing</td>\n",
       "    </tr>\n",
       "    <tr>\n",
       "      <th>7</th>\n",
       "      <td>33</td>\n",
       "      <td>0</td>\n",
       "      <td>picnicing</td>\n",
       "    </tr>\n",
       "    <tr>\n",
       "      <th>8</th>\n",
       "      <td>37</td>\n",
       "      <td>0</td>\n",
       "      <td>picnicing</td>\n",
       "    </tr>\n",
       "    <tr>\n",
       "      <th>9</th>\n",
       "      <td>20</td>\n",
       "      <td>1</td>\n",
       "      <td>dancing</td>\n",
       "    </tr>\n",
       "    <tr>\n",
       "      <th>10</th>\n",
       "      <td>22</td>\n",
       "      <td>1</td>\n",
       "      <td>dancing</td>\n",
       "    </tr>\n",
       "    <tr>\n",
       "      <th>11</th>\n",
       "      <td>24</td>\n",
       "      <td>1</td>\n",
       "      <td>dancing</td>\n",
       "    </tr>\n",
       "    <tr>\n",
       "      <th>12</th>\n",
       "      <td>26</td>\n",
       "      <td>1</td>\n",
       "      <td>working</td>\n",
       "    </tr>\n",
       "    <tr>\n",
       "      <th>13</th>\n",
       "      <td>27</td>\n",
       "      <td>1</td>\n",
       "      <td>working</td>\n",
       "    </tr>\n",
       "    <tr>\n",
       "      <th>14</th>\n",
       "      <td>30</td>\n",
       "      <td>1</td>\n",
       "      <td>working</td>\n",
       "    </tr>\n",
       "    <tr>\n",
       "      <th>15</th>\n",
       "      <td>32</td>\n",
       "      <td>1</td>\n",
       "      <td>picnicing</td>\n",
       "    </tr>\n",
       "    <tr>\n",
       "      <th>16</th>\n",
       "      <td>35</td>\n",
       "      <td>1</td>\n",
       "      <td>picnicing</td>\n",
       "    </tr>\n",
       "    <tr>\n",
       "      <th>17</th>\n",
       "      <td>39</td>\n",
       "      <td>1</td>\n",
       "      <td>picnicing</td>\n",
       "    </tr>\n",
       "  </tbody>\n",
       "</table>\n",
       "</div>"
      ],
      "text/plain": [
       "    age  gender favorite_activity\n",
       "0    21       0          drinking\n",
       "1    23       0          drinking\n",
       "2    24       0          drinking\n",
       "3    25       0           working\n",
       "4    27       0           working\n",
       "5    29       0           working\n",
       "6    31       0         picnicing\n",
       "7    33       0         picnicing\n",
       "8    37       0         picnicing\n",
       "9    20       1           dancing\n",
       "10   22       1           dancing\n",
       "11   24       1           dancing\n",
       "12   26       1           working\n",
       "13   27       1           working\n",
       "14   30       1           working\n",
       "15   32       1         picnicing\n",
       "16   35       1         picnicing\n",
       "17   39       1         picnicing"
      ]
     },
     "execution_count": 27,
     "metadata": {},
     "output_type": "execute_result"
    }
   ],
   "source": [
    "dataset = pd.read_csv('activities.csv')   # reading in the csv file called 'activities'.\n",
    "dataset                                   # let's have a look at our dataset"
   ]
  },
  {
   "cell_type": "markdown",
   "metadata": {},
   "source": [
    "So that's our tiny dataset we'll be using. O means Male and 1 means Female. These findings are by no means correct, I made them up from close observation of the people in my life. Only Kidding. "
   ]
  },
  {
   "cell_type": "markdown",
   "metadata": {},
   "source": [
    "Our ML algo will take in input data and use it to predict the output set, so we need to split the dataset into the input set (age and gender) and output set (genre). By convention we call the input set big 'X', and the output set small 'y'"
   ]
  },
  {
   "cell_type": "code",
   "execution_count": 28,
   "metadata": {},
   "outputs": [
    {
     "data": {
      "text/plain": [
       "0      drinking\n",
       "1      drinking\n",
       "2      drinking\n",
       "3       working\n",
       "4       working\n",
       "5       working\n",
       "6     picnicing\n",
       "7     picnicing\n",
       "8     picnicing\n",
       "9       dancing\n",
       "10      dancing\n",
       "11      dancing\n",
       "12      working\n",
       "13      working\n",
       "14      working\n",
       "15    picnicing\n",
       "16    picnicing\n",
       "17    picnicing\n",
       "Name: favorite_activity, dtype: object"
      ]
     },
     "execution_count": 28,
     "metadata": {},
     "output_type": "execute_result"
    }
   ],
   "source": [
    "X = dataset.drop(columns=['favorite_activity'])  # using the pandas drop() function, we drop the column 'favorite_activity' and assign the result (the input set) to X.\n",
    "                                                 # X now stores the training data. \n",
    "y = dataset['favorite_activity']                 # using pandas, we select only the activity column and assign the output set to y, these are the predictions.  \n",
    "y                                                # let's have a look at our output set."
   ]
  },
  {
   "cell_type": "markdown",
   "metadata": {},
   "source": [
    "Now we need a Machine Learning algo to train on the data. Scikit-Learn has a classifier algo that would be appropriate because we want it to classify people into HipHop, Jazz, Dance, Acoustic or Classical according to their age and gender. "
   ]
  },
  {
   "cell_type": "code",
   "execution_count": 29,
   "metadata": {},
   "outputs": [],
   "source": [
    "from sklearn.tree import DecisionTreeClassifier "
   ]
  },
  {
   "cell_type": "code",
   "execution_count": 30,
   "metadata": {},
   "outputs": [],
   "source": [
    "model = DecisionTreeClassifier()    # assigning a new instance of the ML algo from Scikit-learn to 'model'.\n",
    "model.fit(X, y)                     # training the model by calling fit() on it. fit() takes two args, the input set and the output set\n",
    "predictions = model.predict([[21,0],[22,1]])  # call the predict() function on our model and pass it two arrays, each of them representing a person.\n",
    "                                              # the first person is 21 and male, the second is 22 and female.\n"
   ]
  },
  {
   "cell_type": "markdown",
   "metadata": {},
   "source": [
    "We are saying to the model: \"Using the data sets X (the input data) and y (the 'answers'), predict what music a 21yo male and a 22yo female should like.. \n"
   ]
  },
  {
   "cell_type": "markdown",
   "metadata": {},
   "source": [
    "..and store it in a variable called predictions, which will be an array. "
   ]
  },
  {
   "cell_type": "code",
   "execution_count": 31,
   "metadata": {},
   "outputs": [
    {
     "data": {
      "text/plain": [
       "array(['drinking', 'dancing'], dtype=object)"
      ]
     },
     "execution_count": 31,
     "metadata": {},
     "output_type": "execute_result"
    }
   ],
   "source": [
    "predictions  # let's have a look. "
   ]
  },
  {
   "cell_type": "markdown",
   "metadata": {},
   "source": [
    "## So, what have we done so far? "
   ]
  },
  {
   "cell_type": "markdown",
   "metadata": {},
   "source": [
    "We have used the entire dataset for training. We have taken our tiny dataset and broken it up into two parts. The age and gender (first two columns) are the features of the dataset that we used for the inputs to the model and the last column, the favourite activities, contains the 'answers' or the desired outputs.  \n",
    "We could have swapped things around and used the person's age and favorite activity to predict their gender! "
   ]
  },
  {
   "cell_type": "markdown",
   "metadata": {},
   "source": [
    "Ok so that was an example of the SIMPLEST POSSIBLE machine learning application. We are going to take it to the next level. "
   ]
  },
  {
   "cell_type": "markdown",
   "metadata": {},
   "source": [
    "With the above tiny dataset we could test it manually and see if it works but what about if the dataset has like 100,000 rows? We would be a little screwed and we would need to have some automatic way of testing the accuracy of our model. "
   ]
  },
  {
   "cell_type": "markdown",
   "metadata": {},
   "source": [
    "### Testing Our Model"
   ]
  },
  {
   "cell_type": "markdown",
   "metadata": {},
   "source": [
    "To do this we need to break it up into two sections, a training section and a testing section. I'll show you how to do this in the next tutorial in the notebook called 'JupyterNotebook2'."
   ]
  }
 ],
 "metadata": {
  "kernelspec": {
   "display_name": "Python 3",
   "language": "python",
   "name": "python3"
  },
  "language_info": {
   "codemirror_mode": {
    "name": "ipython",
    "version": 3
   },
   "file_extension": ".py",
   "mimetype": "text/x-python",
   "name": "python",
   "nbconvert_exporter": "python",
   "pygments_lexer": "ipython3",
   "version": "3.8.3"
  }
 },
 "nbformat": 4,
 "nbformat_minor": 4
}
